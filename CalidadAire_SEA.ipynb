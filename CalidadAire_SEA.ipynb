{
 "cells": [
  {
   "cell_type": "markdown",
   "metadata": {},
   "source": [
    "# **1. Importar paquetes**"
   ]
  },
  {
   "cell_type": "code",
   "execution_count": 1,
   "metadata": {},
   "outputs": [],
   "source": [
    "# 1. Importar funciones creadas en archivos Python, ubicadas en la carpeta Script/Python **Siempre que sea modificada, hay que reiniciar el kernel del notebook**\n",
    "import sys\n",
    "sys.path.insert(0, 'Script/python')\n",
    "\n",
    "from lectura_archivos import lectura_todoscsv                   # Función que permite la lectura de todos los archivos, así trabajar todo en un mismo dataframe\n",
    "from series_de_tiempo import series_de_tiempo                   # Función que permite la creación de series de tiempo\n",
    "from ciclo_diario import ciclo_diario                           # Función que permite la creación de ciclos diarios\n",
    "from ciclo_diario_direccion import ciclo_diario_direccion       # Función que permite la creación de ciclos diarios considerando la dirección del viento\n",
    "from ciclo_estacional_viento import ciclo_estacional_viento     # Función que permite la creación de ciclos estacionales de la velocidad del viento\n",
    "from ciclo_estacional import ciclo_estacional                   # Función que permite la creación de ciclos estacionales para cualquier otra variable\n",
    "from rosa_viento import rosa_vientos                            # Función que permite la creación de rosas de los vientos en 8 y 16 direcciones"
   ]
  },
  {
   "cell_type": "code",
   "execution_count": 2,
   "metadata": {},
   "outputs": [],
   "source": [
    "# 2. Importar paquetes necesarios \n",
    "from glob import glob                                   # Función que permite encontrar ruta (path) de cada archivo objetivo\n",
    "import matplotlib.dates as mdates                       # Función que permite un manejo con los formatos de las fechas\n",
    "import pandas as pd                                     # Función que permite el manejo de dataframes\n",
    "import numpy as np                                      # Función que permite crear y manejar vectores y matrices de varias dimensiones\n",
    "pd.options.display.float_format = '{:,.3f}'.format      # Opción para modificar la cantidad de decimales con las que se muestra los valores en el notebook."
   ]
  },
  {
   "cell_type": "code",
   "execution_count": 3,
   "metadata": {},
   "outputs": [
    {
     "data": {
      "text/html": [
       "<div>\n",
       "<style scoped>\n",
       "    .dataframe tbody tr th:only-of-type {\n",
       "        vertical-align: middle;\n",
       "    }\n",
       "\n",
       "    .dataframe tbody tr th {\n",
       "        vertical-align: top;\n",
       "    }\n",
       "\n",
       "    .dataframe thead th {\n",
       "        text-align: right;\n",
       "    }\n",
       "</style>\n",
       "<table border=\"1\" class=\"dataframe\">\n",
       "  <thead>\n",
       "    <tr style=\"text-align: right;\">\n",
       "      <th></th>\n",
       "      <th>HR</th>\n",
       "      <th>MP10Hr</th>\n",
       "      <th>MP25Hr</th>\n",
       "      <th>OzoneHr</th>\n",
       "      <th>Pressure</th>\n",
       "      <th>Rad</th>\n",
       "      <th>Temp</th>\n",
       "      <th>VientoDir</th>\n",
       "      <th>VientoVel</th>\n",
       "    </tr>\n",
       "    <tr>\n",
       "      <th>Fecha</th>\n",
       "      <th></th>\n",
       "      <th></th>\n",
       "      <th></th>\n",
       "      <th></th>\n",
       "      <th></th>\n",
       "      <th></th>\n",
       "      <th></th>\n",
       "      <th></th>\n",
       "      <th></th>\n",
       "    </tr>\n",
       "  </thead>\n",
       "  <tbody>\n",
       "    <tr>\n",
       "      <th>2007-03-31 01:00:00</th>\n",
       "      <td>NaN</td>\n",
       "      <td>NaN</td>\n",
       "      <td>NaN</td>\n",
       "      <td>NaN</td>\n",
       "      <td>NaN</td>\n",
       "      <td>NaN</td>\n",
       "      <td>NaN</td>\n",
       "      <td>NaN</td>\n",
       "      <td>NaN</td>\n",
       "    </tr>\n",
       "    <tr>\n",
       "      <th>2007-03-31 02:00:00</th>\n",
       "      <td>NaN</td>\n",
       "      <td>NaN</td>\n",
       "      <td>NaN</td>\n",
       "      <td>NaN</td>\n",
       "      <td>NaN</td>\n",
       "      <td>NaN</td>\n",
       "      <td>NaN</td>\n",
       "      <td>NaN</td>\n",
       "      <td>NaN</td>\n",
       "    </tr>\n",
       "    <tr>\n",
       "      <th>2007-03-31 03:00:00</th>\n",
       "      <td>NaN</td>\n",
       "      <td>NaN</td>\n",
       "      <td>NaN</td>\n",
       "      <td>NaN</td>\n",
       "      <td>NaN</td>\n",
       "      <td>NaN</td>\n",
       "      <td>NaN</td>\n",
       "      <td>NaN</td>\n",
       "      <td>NaN</td>\n",
       "    </tr>\n",
       "    <tr>\n",
       "      <th>2007-03-31 04:00:00</th>\n",
       "      <td>NaN</td>\n",
       "      <td>NaN</td>\n",
       "      <td>NaN</td>\n",
       "      <td>NaN</td>\n",
       "      <td>NaN</td>\n",
       "      <td>NaN</td>\n",
       "      <td>NaN</td>\n",
       "      <td>NaN</td>\n",
       "      <td>NaN</td>\n",
       "    </tr>\n",
       "    <tr>\n",
       "      <th>2007-03-31 05:00:00</th>\n",
       "      <td>NaN</td>\n",
       "      <td>NaN</td>\n",
       "      <td>NaN</td>\n",
       "      <td>NaN</td>\n",
       "      <td>NaN</td>\n",
       "      <td>NaN</td>\n",
       "      <td>NaN</td>\n",
       "      <td>NaN</td>\n",
       "      <td>NaN</td>\n",
       "    </tr>\n",
       "  </tbody>\n",
       "</table>\n",
       "</div>"
      ],
      "text/plain": [
       "                     HR  MP10Hr  MP25Hr  OzoneHr  Pressure  Rad  Temp  \\\n",
       "Fecha                                                                   \n",
       "2007-03-31 01:00:00 NaN     NaN     NaN      NaN       NaN  NaN   NaN   \n",
       "2007-03-31 02:00:00 NaN     NaN     NaN      NaN       NaN  NaN   NaN   \n",
       "2007-03-31 03:00:00 NaN     NaN     NaN      NaN       NaN  NaN   NaN   \n",
       "2007-03-31 04:00:00 NaN     NaN     NaN      NaN       NaN  NaN   NaN   \n",
       "2007-03-31 05:00:00 NaN     NaN     NaN      NaN       NaN  NaN   NaN   \n",
       "\n",
       "                     VientoDir  VientoVel  \n",
       "Fecha                                      \n",
       "2007-03-31 01:00:00        NaN        NaN  \n",
       "2007-03-31 02:00:00        NaN        NaN  \n",
       "2007-03-31 03:00:00        NaN        NaN  \n",
       "2007-03-31 04:00:00        NaN        NaN  \n",
       "2007-03-31 05:00:00        NaN        NaN  "
      ]
     },
     "metadata": {},
     "output_type": "display_data"
    },
    {
     "data": {
      "text/html": [
       "<div>\n",
       "<style scoped>\n",
       "    .dataframe tbody tr th:only-of-type {\n",
       "        vertical-align: middle;\n",
       "    }\n",
       "\n",
       "    .dataframe tbody tr th {\n",
       "        vertical-align: top;\n",
       "    }\n",
       "\n",
       "    .dataframe thead th {\n",
       "        text-align: right;\n",
       "    }\n",
       "</style>\n",
       "<table border=\"1\" class=\"dataframe\">\n",
       "  <thead>\n",
       "    <tr style=\"text-align: right;\">\n",
       "      <th></th>\n",
       "      <th>HR</th>\n",
       "      <th>MP10Hr</th>\n",
       "      <th>MP25Hr</th>\n",
       "      <th>OzoneHr</th>\n",
       "      <th>Pressure</th>\n",
       "      <th>Rad</th>\n",
       "      <th>Temp</th>\n",
       "      <th>VientoDir</th>\n",
       "      <th>VientoVel</th>\n",
       "    </tr>\n",
       "    <tr>\n",
       "      <th>Fecha</th>\n",
       "      <th></th>\n",
       "      <th></th>\n",
       "      <th></th>\n",
       "      <th></th>\n",
       "      <th></th>\n",
       "      <th></th>\n",
       "      <th></th>\n",
       "      <th></th>\n",
       "      <th></th>\n",
       "    </tr>\n",
       "  </thead>\n",
       "  <tbody>\n",
       "    <tr>\n",
       "      <th>2021-04-21 19:00:00</th>\n",
       "      <td>60.481</td>\n",
       "      <td>NaN</td>\n",
       "      <td>NaN</td>\n",
       "      <td>NaN</td>\n",
       "      <td>546.342</td>\n",
       "      <td>2.685</td>\n",
       "      <td>15.882</td>\n",
       "      <td>189.472</td>\n",
       "      <td>0.403</td>\n",
       "    </tr>\n",
       "    <tr>\n",
       "      <th>2021-04-21 20:00:00</th>\n",
       "      <td>69.174</td>\n",
       "      <td>NaN</td>\n",
       "      <td>NaN</td>\n",
       "      <td>NaN</td>\n",
       "      <td>559.475</td>\n",
       "      <td>0.127</td>\n",
       "      <td>14.547</td>\n",
       "      <td>160.301</td>\n",
       "      <td>1.423</td>\n",
       "    </tr>\n",
       "    <tr>\n",
       "      <th>2021-04-21 21:00:00</th>\n",
       "      <td>77.277</td>\n",
       "      <td>NaN</td>\n",
       "      <td>NaN</td>\n",
       "      <td>NaN</td>\n",
       "      <td>582.800</td>\n",
       "      <td>0.126</td>\n",
       "      <td>13.193</td>\n",
       "      <td>171.342</td>\n",
       "      <td>1.234</td>\n",
       "    </tr>\n",
       "    <tr>\n",
       "      <th>2021-04-21 22:00:00</th>\n",
       "      <td>79.993</td>\n",
       "      <td>NaN</td>\n",
       "      <td>NaN</td>\n",
       "      <td>NaN</td>\n",
       "      <td>595.833</td>\n",
       "      <td>0.161</td>\n",
       "      <td>12.433</td>\n",
       "      <td>208.226</td>\n",
       "      <td>0.934</td>\n",
       "    </tr>\n",
       "    <tr>\n",
       "      <th>2021-04-21 23:00:00</th>\n",
       "      <td>83.608</td>\n",
       "      <td>NaN</td>\n",
       "      <td>NaN</td>\n",
       "      <td>NaN</td>\n",
       "      <td>609.550</td>\n",
       "      <td>0.930</td>\n",
       "      <td>11.408</td>\n",
       "      <td>NaN</td>\n",
       "      <td>NaN</td>\n",
       "    </tr>\n",
       "  </tbody>\n",
       "</table>\n",
       "</div>"
      ],
      "text/plain": [
       "                        HR  MP10Hr  MP25Hr  OzoneHr  Pressure   Rad   Temp  \\\n",
       "Fecha                                                                        \n",
       "2021-04-21 19:00:00 60.481     NaN     NaN      NaN   546.342 2.685 15.882   \n",
       "2021-04-21 20:00:00 69.174     NaN     NaN      NaN   559.475 0.127 14.547   \n",
       "2021-04-21 21:00:00 77.277     NaN     NaN      NaN   582.800 0.126 13.193   \n",
       "2021-04-21 22:00:00 79.993     NaN     NaN      NaN   595.833 0.161 12.433   \n",
       "2021-04-21 23:00:00 83.608     NaN     NaN      NaN   609.550 0.930 11.408   \n",
       "\n",
       "                     VientoDir  VientoVel  \n",
       "Fecha                                      \n",
       "2021-04-21 19:00:00    189.472      0.403  \n",
       "2021-04-21 20:00:00    160.301      1.423  \n",
       "2021-04-21 21:00:00    171.342      1.234  \n",
       "2021-04-21 22:00:00    208.226      0.934  \n",
       "2021-04-21 23:00:00        NaN        NaN  "
      ]
     },
     "metadata": {},
     "output_type": "display_data"
    }
   ],
   "source": [
    "# 3. Declaración de variables y ruta de cada archivo, apertura de archivos para crear variable que contendra todos los dataframes (df)\n",
    "UTM_N        = 6171746\n",
    "UTM_E        = 317503\n",
    "Huso_horario = 19\n",
    "EPSG         = \"EPSG:9155\" #SIRGAS-Chile 2016 / UTM zone 19S https://epsg.io/9155\n",
    "paths        = sorted(glob(\"Data/Sfdo*.csv\"))\n",
    "df           = lectura_todoscsv(paths)\n",
    "display(df.head())\n",
    "display(df.tail())"
   ]
  },
  {
   "cell_type": "code",
   "execution_count": 4,
   "metadata": {},
   "outputs": [
    {
     "data": {
      "text/plain": [
       "(123263, 9)"
      ]
     },
     "execution_count": 4,
     "metadata": {},
     "output_type": "execute_result"
    }
   ],
   "source": [
    "# 4. Información relacionada a la cantidad de (filas, columnas).\n",
    "df.shape"
   ]
  },
  {
   "cell_type": "code",
   "execution_count": 5,
   "metadata": {},
   "outputs": [
    {
     "name": "stdout",
     "output_type": "stream",
     "text": [
      "<class 'pandas.core.frame.DataFrame'>\n",
      "DatetimeIndex: 123263 entries, 2007-03-31 01:00:00 to 2021-04-21 23:00:00\n",
      "Data columns (total 9 columns):\n",
      " #   Column     Non-Null Count   Dtype  \n",
      "---  ------     --------------   -----  \n",
      " 0   HR         69662 non-null   float32\n",
      " 1   MP10Hr     58635 non-null   float32\n",
      " 2   MP25Hr     31491 non-null   float32\n",
      " 3   OzoneHr    68196 non-null   float32\n",
      " 4   Pressure   65194 non-null   float32\n",
      " 5   Rad        69660 non-null   float32\n",
      " 6   Temp       67481 non-null   float32\n",
      " 7   VientoDir  121563 non-null  float32\n",
      " 8   VientoVel  122014 non-null  float32\n",
      "dtypes: float32(9)\n",
      "memory usage: 5.2 MB\n"
     ]
    }
   ],
   "source": [
    "# 5. Información del archivo, describe: número de filas, nombre de columnas, archivos no nulos, tipo de variable asignada a cada columna y memoria usada por la variable df (dataframe).\n",
    "df.info()"
   ]
  },
  {
   "cell_type": "code",
   "execution_count": 6,
   "metadata": {},
   "outputs": [],
   "source": [
    "# 6. Resumen estadístico de cada una de las variables, se incluye los percentiles 5% y 95% (los cuales no son por defecto)\n",
    "df.describe(percentiles=[.05, .25, .50, .75, .95]).T\n",
    "df.describe(percentiles=[.05, .25, .50, .75, .95]).T.to_excel(\"Output/Data/resumen_estadistico.xlsx\")"
   ]
  },
  {
   "cell_type": "markdown",
   "metadata": {},
   "source": [
    "# **2. Gráficos**\n",
    "\n",
    "## 2.1 Series de tiempo"
   ]
  },
  {
   "cell_type": "code",
   "execution_count": 7,
   "metadata": {},
   "outputs": [],
   "source": [
    "contenedor_de_limites = {\n",
    "     \"HR\"         : [0, 100,  \"Humedad relativa del aire (%)\"],\n",
    "     \"MP10Hr\"     : [0, 1000, \"Material Particulado MP10 (μg/m3N)\"],\n",
    "     \"MP25Hr\"     : [0, 350,  \"Material Particulado MP2.5 (μg/m3)\"],\n",
    "     \"OzoneHr\"    : [0, 100,  \"Ozono (ppb)\"],\n",
    "     \"Rad\"        : [0, 1200, \"Radiación global (W/m2)\"],\n",
    "     \"Temp\"       : [-5, 40,  \"Temperatura ambiente (°C)\"],\n",
    "     \"VientoDir\"  : [0, 360,  \"Dirección del viento (°)\"],\n",
    "     \"VientoVel\"  : [0, 8,    \"Velocidad del viento (m/s)\"],\n",
    "     }\n",
    "for variable, [vmin, vmax, var_title] in contenedor_de_limites.items():\n",
    "    series_de_tiempo(\n",
    "        df              = df, \n",
    "        variable        = variable, \n",
    "        nombre_estacion = \"Estación San Fernando\",\n",
    "        xlabel          = \"Tiempo [años]\",\n",
    "        ylabel          = var_title,\n",
    "        ylim            = {\"bottom\": vmin, \"top\": vmax},\n",
    "        major_locator   = {\"locator\": mdates.YearLocator()},\n",
    "        major_formatter = {\"formatter\": mdates.DateFormatter('%Y')}\n",
    "        )"
   ]
  },
  {
   "cell_type": "markdown",
   "metadata": {},
   "source": [
    "## 2.2. Ciclos diarios"
   ]
  },
  {
   "cell_type": "code",
   "execution_count": 8,
   "metadata": {},
   "outputs": [],
   "source": [
    "contenedor_de_limites = {\n",
    "     \"HR\"         : [0, 100, \"Humedad relativa del aire (%)\"],\n",
    "     \"MP10Hr\"     : [0, 200, \"Material Particulado MP10 (μg/m3N)\"],\n",
    "     \"MP25Hr\"     : [0, 120,  \"Material Particulado MP2.5 (μg/m3)\"],\n",
    "     \"OzoneHr\"    : [0, 60,  \"Ozono (ppb)\"],\n",
    "     \"Rad\"        : [0, 1000, \"Radiación global (W/m2)\"],\n",
    "     \"Temp\"       : [0, 40,  \"Temperatura ambiente (°C)\"],\n",
    "     \"VientoVel\"  : [0, 5,   \"Velocidad del viento (m/s)\"],\n",
    "     }\n",
    "\n",
    "for variable, [vmin, vmax, var_title] in contenedor_de_limites.items():\n",
    "    ciclo_diario(\n",
    "        df              = df, \n",
    "        variable        = variable,  \n",
    "        nombre_estacion = \"Estación San Fernando\",     \n",
    "        xlabel          = \"Hora Local [horas]\",\n",
    "        ylabel          = var_title,\n",
    "        ylim            = {\"bottom\": vmin, \"top\": vmax},\n",
    "        )"
   ]
  },
  {
   "cell_type": "code",
   "execution_count": 10,
   "metadata": {},
   "outputs": [],
   "source": [
    "ciclo_diario_direccion(\n",
    "    df              = df, \n",
    "    variable        = \"VientoDir\", \n",
    "    nombre_estacion = \"Estación San Fernando\",\n",
    "    vmin            = 0,\n",
    "    vmax            = 30\n",
    "    )"
   ]
  },
  {
   "cell_type": "markdown",
   "metadata": {},
   "source": [
    "## 2.3 Ciclos estacionales"
   ]
  },
  {
   "cell_type": "code",
   "execution_count": 11,
   "metadata": {},
   "outputs": [],
   "source": [
    "ciclo_estacional_viento(\n",
    "    df              = df, \n",
    "    velocidad       = \"VientoVel\", \n",
    "    direccion       = \"VientoDir\", \n",
    "    nombre_estacion = \"Estación San Fernando\",\n",
    "    vmin            = 0,\n",
    "    vmax            = 3,\n",
    "    step            = 0.05,\n",
    "    )"
   ]
  },
  {
   "cell_type": "code",
   "execution_count": 12,
   "metadata": {},
   "outputs": [],
   "source": [
    "contenedor_de_limites = {\n",
    "   \"HR\"       : [0, 100,  2.0, \"Humedad relativa del aire\",  \"(%)\"],\n",
    "   \"MP10Hr\"   : [0, 150,  5.0, \"Material Particulado MP10\",  \"(μg/m3N)\"],\n",
    "   \"MP25Hr\"   : [0, 100,  5.0, \"Material Particulado MP2.5\", \"(μg/m3)\"],\n",
    "   \"OzoneHr\"  : [0, 50,   1.0, \"Ozono\", \"(ppb)\"],\n",
    "   \"Rad\"      : [0, 1000,  50, \"Radiación global\", \"(W/m2)\"],\n",
    "   \"Temp\"     : [0, 30,   1.0, \"Temperatura ambiente\", \"(°C)\"],\n",
    "     }\n",
    "for variable, [vmin, vmax, step, var_title, unit] in contenedor_de_limites.items():\n",
    "     ciclo_estacional(\n",
    "          df              = df, \n",
    "          variable        = variable, \n",
    "          nombre_estacion = \"Estación San Fernando\",\n",
    "          vmin            = vmin,\n",
    "          vmax            = vmax,\n",
    "          step            = step,\n",
    "          clabel          = var_title,\n",
    "          unidad          = unit,\n",
    "        )"
   ]
  },
  {
   "cell_type": "markdown",
   "metadata": {},
   "source": [
    "## 2.4 Rosa de los vientos"
   ]
  },
  {
   "cell_type": "code",
   "execution_count": 13,
   "metadata": {},
   "outputs": [],
   "source": [
    "rosa_vientos(\n",
    "    df              = df, \n",
    "    var_vientos     = \"VientoVel\", \n",
    "    var_direccion   = \"VientoDir\", \n",
    "    nrosa           = 16, \n",
    "    nombre_estacion = \"Estación San Fernando\",\n",
    "    )"
   ]
  }
 ],
 "metadata": {
  "interpreter": {
   "hash": "0402dabae8b23d8b5afb1fd4b5b951a10d759731325203b513c39037a8670cc8"
  },
  "kernelspec": {
   "display_name": "Python 3",
   "language": "python",
   "name": "python3"
  },
  "language_info": {
   "codemirror_mode": {
    "name": "ipython",
    "version": 3
   },
   "file_extension": ".py",
   "mimetype": "text/x-python",
   "name": "python",
   "nbconvert_exporter": "python",
   "pygments_lexer": "ipython3",
   "version": "3.8.10"
  },
  "metadata": {
   "interpreter": {
    "hash": "31f2aee4e71d21fbe5cf8b01ff0e069b9275f58929596ceb00d14d90e3e16cd6"
   }
  }
 },
 "nbformat": 4,
 "nbformat_minor": 2
}
