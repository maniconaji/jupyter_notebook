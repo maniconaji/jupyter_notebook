{
 "cells": [
  {
   "cell_type": "markdown",
   "metadata": {},
   "source": [
    "# 1. Importar paquetes y exploración inicial de datos"
   ]
  },
  {
   "cell_type": "code",
   "execution_count": 1,
   "outputs": [],
   "source": [
    "# Manejo de  datos\n",
    "import pandas as pd                          # Manipular DataFrames y DataArrays\n",
    "import geopandas as gpd                      # Manipular GeoDataFrames y GeoDataArrays\n",
    "import numpy as np                           # Manipular array y otros algoritmos matematicos\n",
    "from openpyxl import load_workbook\n",
    "from scipy import interpolate\n",
    "import matplotlib.patches as mpatches\n",
    "\n",
    "# Funciones elementales\n",
    "from functools import reduce\n",
    "from glob import glob\n",
    "import os\n",
    "\n",
    "# Funciones para SIG\n",
    "from pyproj import Proj\n",
    "\n",
    "# Obtener metricas\n",
    "import ppscore as pps\n",
    "\n",
    "#Funciones para graficar\n",
    "import seaborn as sns\n",
    "import matplotlib.pyplot as plt\n",
    "import plotly.express as px\n",
    "import matplotlib.dates as mdates\n",
    "\n",
    "\n",
    "output_folder = \"Output/P001calidad_aire\"\n",
    "if os.path.isdir(output_folder) == False:\n",
    "    os.mkdir(output_folder)"
   ],
   "metadata": {
    "collapsed": false,
    "pycharm": {
     "name": "#%%\n"
    }
   }
  },
  {
   "cell_type": "code",
   "execution_count": 2,
   "outputs": [],
   "source": [
    "def lectura_csv(path):\n",
    "    variable = path.split(\"_\")[1]\n",
    "    data = pd.read_csv(path, sep=\";\", dtype=str).iloc[:, :-1]\n",
    "    # Definición fecha\n",
    "    data['Fecha'] = pd.to_datetime('20' + data['FECHA (YYMMDD)'] + ' ' + data['HORA (HHMM)'] + '00', format=\"%Y%m%d %H%M%S\")\n",
    "    data          = data.drop(['FECHA (YYMMDD)', 'HORA (HHMM)'], axis=1)\n",
    "    if (\"Unnamed: 2\" in data.columns) == True:\n",
    "        data = data.rename({\"Unnamed: 2\": variable}, axis=1)\n",
    "    if ('Registros validados' in data.columns) == True:\n",
    "        data = data.drop(['Registros no validados', 'Registros preliminares'], axis=1)\\\n",
    "            .rename({'Registros validados': variable}, axis=1)\n",
    "    data[variable] = data[variable].str.replace(',', '.').astype(np.float32)\n",
    "    return data\n",
    "\n",
    "def lectura_todoscsv(paths, UTM_N, UTM_E, projection):\n",
    "    data = reduce(lambda left,right: pd.merge(left,right,on='Fecha', how=\"outer\"), [lectura_csv(path) for path in paths])\n",
    "    data[\"lon\"], data[\"lat\"] = projection(UTM_E, UTM_N, inverse=True)\n",
    "    data = gpd.GeoDataFrame(data, geometry=gpd.points_from_xy(x=data.lon, y=data.lat))\n",
    "    return data.set_index(\"Fecha\").sort_index()\n",
    "\n",
    "paths         = sorted(glob('Data/calidad aire/*.csv'))\n",
    "UTM_N         = 6171746\n",
    "UTM_E         = 317503\n",
    "projection    = Proj(\"EPSG:9155\") #SIRGAS-Chile 2016 / UTM zone 19S https://epsg.io/9155\n",
    "df            = lectura_todoscsv(paths, UTM_N, UTM_E, projection)"
   ],
   "metadata": {
    "collapsed": false,
    "pycharm": {
     "name": "#%%\n"
    }
   }
  },
  {
   "cell_type": "code",
   "execution_count": 3,
   "outputs": [
    {
     "name": "stdout",
     "output_type": "stream",
     "text": [
      "<class 'geopandas.geodataframe.GeoDataFrame'>\n",
      "DatetimeIndex: 123263 entries, 2007-03-31 01:00:00 to 2021-04-21 23:00:00\n",
      "Data columns (total 12 columns):\n",
      " #   Column     Non-Null Count   Dtype   \n",
      "---  ------     --------------   -----   \n",
      " 0   HR         69662 non-null   float32 \n",
      " 1   MP10Hr     58635 non-null   float32 \n",
      " 2   MP25Hr     31491 non-null   float32 \n",
      " 3   OzoneHr    68196 non-null   float32 \n",
      " 4   Pressure   65194 non-null   float32 \n",
      " 5   Rad        69660 non-null   float32 \n",
      " 6   Temp       67481 non-null   float32 \n",
      " 7   VientoDir  121563 non-null  float32 \n",
      " 8   VientoVel  122014 non-null  float32 \n",
      " 9   lon        123263 non-null  float64 \n",
      " 10  lat        123263 non-null  float64 \n",
      " 11  geometry   123263 non-null  geometry\n",
      "dtypes: float32(9), float64(2), geometry(1)\n",
      "memory usage: 8.0 MB\n"
     ]
    }
   ],
   "source": [
    "df.info()"
   ],
   "metadata": {
    "collapsed": false,
    "pycharm": {
     "name": "#%%\n"
    }
   }
  },
  {
   "cell_type": "code",
   "execution_count": 4,
   "outputs": [
    {
     "name": "stdout",
     "output_type": "stream",
     "text": [
      "               count    mean     std     min     25%     50%     75%      max\n",
      "HR         69662.000  63.411  22.688   0.000  45.436  65.093  82.400  105.000\n",
      "MP10Hr     58635.000  43.580  35.440   1.000  23.000  35.500  52.339  760.000\n",
      "MP25Hr     31491.000  21.939  26.336   1.000   8.000  14.000  27.000  341.525\n",
      "OzoneHr    68196.000  14.253  11.439   0.510   5.000  11.781  20.499   69.625\n",
      "Pressure   65194.000 814.346 204.271   0.000 551.692 975.000 979.000 1072.670\n",
      "Rad        69660.000 176.566 263.823   0.000   0.000   5.843 297.516 1019.000\n",
      "Temp       67481.000  14.645   6.866  -2.451   9.600  13.700  19.200   34.700\n",
      "VientoDir 121563.000 174.152  62.255   0.000 146.000 173.000 219.000  360.000\n",
      "VientoVel 122014.000   1.745   0.845   0.000   1.100   1.700   2.300    7.800\n",
      "lon       123263.000 -70.990   0.000 -70.990 -70.990 -70.990 -70.990  -70.990\n",
      "lat       123263.000 -34.580   0.000 -34.580 -34.580 -34.580 -34.580  -34.580\n"
     ]
    }
   ],
   "source": [
    "with pd.option_context('display.float_format', '{:0.3f}'.format):\n",
    "    print(df.describe().T)"
   ],
   "metadata": {
    "collapsed": false,
    "pycharm": {
     "name": "#%%\n"
    }
   }
  },
  {
   "cell_type": "markdown",
   "source": [
    "# 2. Visualización de los datos\n",
    "## 2.1 Series de Tiempo"
   ],
   "metadata": {
    "collapsed": false,
    "pycharm": {
     "name": "#%% md\n"
    }
   }
  },
  {
   "cell_type": "code",
   "execution_count": 5,
   "outputs": [],
   "source": [
    "def series_de_tiempo(df, variable, nombre_estacion, xlabel, ylabel, output_folder, **kwargs):\n",
    "    \"\"\"\n",
    "    Descripción: Función para graficar series de tiempo con promedio mensual.\n",
    "\n",
    "    df          (Dataframe):    Conjunto de datos a graficar.\n",
    "    variable          (str):    Variable en \"str\" que se desea graficar.\n",
    "    nombre_estacion   (str):    Nombre de la estación de monitoreo.\n",
    "    xlabel            (str):    Nombre de eje x del gráfico.\n",
    "    ylabel            (str):    Nombre de eje y del gráfico.\n",
    "    **kwargs               :    Variables que no están definidas en la función directamente, pero que una vez que\n",
    "                                ajuste a sus requerimientos, pueden ser cambiadas. Recordar que si se tiene kwargs debe estar definido cuando se llama la función.\n",
    "\n",
    "    Ejemplo:\n",
    "        series_de_tiempo(\n",
    "            df              = df,\n",
    "            variable        = \"velocidadDir\",\n",
    "            nombre_estacion = \"Estación San Fernando\",\n",
    "            xlabel          = \"Tiempo [años]\",\n",
    "            ylabel          = \"Dirección del viento (°)\",\n",
    "            ylim            = {\"bottom\": 0, \"top\": 360},\n",
    "            major_locator   = {\"locator\": mdates.YearLocator()},\n",
    "            major_formatter = {\"formatter\": mdates.DateFormatter('%Y')}\n",
    "            )\n",
    "    \"\"\"\n",
    "    # Limpieza de valores NaN.\n",
    "    df = df[variable].dropna()\n",
    "\n",
    "    # Carpeta para guardar archivos\n",
    "    plot_folder = output_folder+\"/Plot\"\n",
    "    data_folder = output_folder+\"/Data\"\n",
    "\n",
    "    if os.path.isdir(plot_folder) == False:\n",
    "        os.mkdir(plot_folder)\n",
    "    if os.path.isdir(data_folder) == False:\n",
    "        os.mkdir(data_folder)\n",
    "\n",
    "    # Crear figura, los valores pueden ser modificados en función de lo que se necesite.\n",
    "    fig, ax = plt.subplots(\n",
    "        figsize     = (9,6),\n",
    "        gridspec_kw = {'left':0.075, 'right':0.975, 'top':0.945, 'bottom':0.085},\n",
    "        facecolor   ='w',\n",
    "        edgecolor   ='w')\n",
    "\n",
    "    # Graficar datos, se recomienda como punto y no lineas.\n",
    "    ax.plot(\n",
    "        df,\n",
    "        ls     = \"None\",\n",
    "        ms     = 0.5,\n",
    "        marker = '.',\n",
    "        c      = 'blue',\n",
    "        label  = \"Datos\",\n",
    "        alpha  = 1,\n",
    "        zorder = 4\n",
    "    )\n",
    "\n",
    "    # Definición de limites: \"x\" corresponde al tiempo e \"y\" corresponde a el valor a graficar.\n",
    "    ax.set_xlim( df.index.min(), df.index.max() )\n",
    "    ax.set_ylim( **kwargs[\"ylim\"] )\n",
    "\n",
    "    # Definición de etiqueta del eje \"x\" y el eje \"y\".\n",
    "    ax.set_xlabel( xlabel, fontsize =  11, fontweight = \"normal\", labelpad = 2.5)\n",
    "    ax.set_ylabel( ylabel, fontsize =  11, fontweight = \"normal\", labelpad = 2.5)\n",
    "\n",
    "    # Coloca ticks en cada año y el formato de cada uno de los ticks\n",
    "    ax.xaxis.set_major_locator(**kwargs[\"major_locator\"])\n",
    "    ax.xaxis.set_major_formatter( **kwargs[\"major_formatter\"] )\n",
    "\n",
    "    # Definición de tipografía del eje \"x\", el eje \"y\" y la grilla.\n",
    "    ax.grid(True)\n",
    "    ax.tick_params(\n",
    "        axis = \"both\", which = \"major\", direction = \"in\", length = 7.5, width = 1, pad = 5,\n",
    "        grid_color = 'k', grid_linewidth = 0.5, grid_linestyle = \"--\", grid_alpha = 0.8,\n",
    "        bottom = True, top = True, left = True, right = True)\n",
    "\n",
    "    # Definición de legenda\n",
    "    ax.legend(\n",
    "        loc = 0, ncol = 2, fontsize = 10, markerscale = 10, facecolor = 'lightgrey', edgecolor = 'k')\n",
    "    # Definición del titulo del gráfico\n",
    "    fig.suptitle(\n",
    "        \"Serie de Tiempo de \"+ylabel+\" \"+nombre_estacion,\n",
    "        size = 11, weight = \"normal\")\n",
    "    # Guarda la figura\n",
    "    fig.savefig(\n",
    "        plot_folder+\"/ST_\"+variable+\"_\"+nombre_estacion.replace(\" \",\"\")+\".png\",\n",
    "        facecolor = 'w', edgecolor = 'w', dpi = 96)\n",
    "    # Cierra la figura\n",
    "    plt.close(fig)\n",
    "    return\n",
    "\n",
    "contenedor_de_limites = {\n",
    "    \"HR\"         : [0, 100,  \"Humedad relativa del aire (%)\"],\n",
    "    \"MP10Hr\"     : [0, 1000, \"Material Particulado MP10 (μg/m3N)\"],\n",
    "    \"MP25Hr\"     : [0, 350,  \"Material Particulado MP2.5 (μg/m3)\"],\n",
    "    \"OzoneHr\"    : [0, 100,  \"Ozono (ppb)\"],\n",
    "    \"Rad\"        : [0, 1200, \"Radiación global (W/m2)\"],\n",
    "    \"Temp\"       : [-5, 40,  \"Temperatura ambiente (°C)\"],\n",
    "    \"VientoDir\"  : [0, 360,  \"Dirección del viento (°)\"],\n",
    "    \"VientoVel\"  : [0, 8,    \"Velocidad del viento (m/s)\"],\n",
    "}\n",
    "\n",
    "for variable, [vmin, vmax, var_title] in contenedor_de_limites.items():\n",
    "    series_de_tiempo(\n",
    "        df              = df,\n",
    "        variable        = variable,\n",
    "        nombre_estacion = \"Estación San Fernando\",\n",
    "        xlabel          = \"Tiempo [años]\",\n",
    "        ylabel          = var_title,\n",
    "        output_folder   = output_folder,\n",
    "        ylim            = {\"bottom\": vmin, \"top\": vmax},\n",
    "        major_locator   = {\"locator\": mdates.YearLocator()},\n",
    "        major_formatter = {\"formatter\": mdates.DateFormatter('%Y')}\n",
    "    )"
   ],
   "metadata": {
    "collapsed": false,
    "pycharm": {
     "name": "#%%\n"
    }
   }
  },
  {
   "cell_type": "markdown",
   "source": [
    "## 2.2 Ciclos Diarios"
   ],
   "metadata": {
    "collapsed": false,
    "pycharm": {
     "name": "#%% md\n"
    }
   }
  },
  {
   "cell_type": "code",
   "execution_count": 6,
   "outputs": [],
   "source": [
    "def ciclo_diario(df, variable, nombre_estacion, xlabel, ylabel, output_folder, **kwargs):\n",
    "    \"\"\"\n",
    "    Descripción: Función para graficar ciclo diario con promedio horario.\n",
    "\n",
    "    df          (Dataframe):    Conjunto de datos a graficar.\n",
    "    variable          (str):    Variable en \"str\" que se desea graficar.\n",
    "    nombre_estacion   (str):    Nombre de la estación de monitoreo.\n",
    "    xlabel            (str):    Nombre de eje x del gráfico.\n",
    "    ylabel            (str):    Nombre de eje y del gráfico.\n",
    "    **kwargs               :    Variables que no están definidas en la función directamente, pero que una vez que\n",
    "                                ajuste a sus requerimientos, pueden ser cambiadas. Recordar que si se tiene kwargs debe estar definido cuando se llama la función.\n",
    "    Ejemplo:\n",
    "        ciclo_diario(\n",
    "        df              = df,\n",
    "        variable        = \"vientoVel\",\n",
    "        nombre_estacion = \"Estación San Fernando\",\n",
    "        xlabel          = \"Hora Local [horas]\",\n",
    "        ylabel          = \"Velocidad del viento (m/s)\",\n",
    "        ylim            = {\"bottom\": 0, \"top\": 5},\n",
    "        )\n",
    "    \"\"\"\n",
    "    #Limpieza de valores NaN.\n",
    "    df = df[variable].dropna()\n",
    "\n",
    "    #Agrupar datas por hora.\n",
    "    df = df.groupby(df.index.hour)\n",
    "\n",
    "    #Calcular percentil 95, percentil 5 y promedio de los datos.\n",
    "    df_P95 = df.apply(lambda x: np.percentile(x, 95))\n",
    "    df_P05 = df.apply(lambda x: np.percentile(x, 5))\n",
    "    df_promedio = df.mean()\n",
    "\n",
    "    # Carpeta para guardar archivos\n",
    "    plot_folder = output_folder+\"/Plot\"\n",
    "    data_folder = output_folder+\"/Data\"\n",
    "\n",
    "    if os.path.isdir(plot_folder) == False:\n",
    "        os.mkdir(plot_folder)\n",
    "    if os.path.isdir(data_folder) == False:\n",
    "        os.mkdir(data_folder)\n",
    "\n",
    "    #Crear figura, los valores pueden ser modificados en función de lo que se necesite.\n",
    "    fig, ax = plt.subplots(\n",
    "        figsize     = (9,6),\n",
    "        gridspec_kw = {'left':0.075, 'right':0.975, 'top':0.945, 'bottom':0.085},\n",
    "        facecolor   ='w',\n",
    "        edgecolor   ='w')\n",
    "\n",
    "    #Graficar promedio de los datos.\n",
    "    ax.plot(df_promedio, ls = \"-\", lw = 1.5, c = \"blue\", label = \"Promedio\", zorder = 2)\n",
    "    ax.plot(df_P05, ls = \"-\", lw = 1.0, c = \"k\", label = \"__no_legend__\", zorder = 2)\n",
    "    ax.plot(df_P95, ls = \"-\", lw = 1.0, c = \"k\", label = \"__no_legend__\", zorder = 2)\n",
    "\n",
    "    #Graficar el 90% de los datos.\n",
    "    ax.fill_between(\n",
    "        x = df_P05.index, y1 = df_P05, y2 = df_P95, alpha = 0.3, color = 'blue', zorder = 2, label = \"90% de datos\")\n",
    "\n",
    "    #Definición de limites: \"x\" corresponde al tiempo e \"y\" corresponde a el valor a graficar.\n",
    "    ax.set_xlim(df_P95.index.min(), df_P95.index.max())\n",
    "    ax.set_ylim(**kwargs[\"ylim\"])\n",
    "\n",
    "    #Definición de etiqueta del eje \"x\" y el eje \"y\".\n",
    "    ax.set_xlabel(xlabel, fontsize = 11, fontweight = \"normal\", labelpad = 2.5)\n",
    "    ax.set_ylabel(ylabel, fontsize = 11, fontweight = \"normal\", labelpad = 2.5)\n",
    "\n",
    "    # Definición de tipografía del eje \"x\", el eje \"y\" y la grilla.\n",
    "    ax.grid(True)\n",
    "    ax.set(xticks = df_promedio.index)\n",
    "    ax.tick_params(\n",
    "        axis = \"both\", which = \"major\", direction = \"in\", length = 7.5, width = 1, pad = 5,\n",
    "        grid_color = 'k', grid_linewidth = 0.75, grid_linestyle = \"--\", grid_alpha = 0.8,\n",
    "        bottom = True, top = True, left = True, right = True)\n",
    "\n",
    "    # Definición de legenda\n",
    "    ax.legend(\n",
    "        loc = 0, ncol = 2, fontsize = 10, markerscale = 10, facecolor = 'lightgrey', edgecolor = 'k')\n",
    "    # Definición del titulo del gráfico\n",
    "    fig.suptitle(\n",
    "        \"Ciclo Diario de \"+ylabel+\" \"+nombre_estacion,\n",
    "        size = 11, weight = \"normal\")\n",
    "    # Guarda la figura\n",
    "    fig.savefig(\n",
    "        plot_folder+\"/CD_\"+variable+\"_\"+nombre_estacion.replace(\" \",\"\")+\".png\",\n",
    "        facecolor = 'w', edgecolor = 'w', dpi = 96)\n",
    "    # Cierra la figura\n",
    "    plt.close(fig)\n",
    "    return\n",
    "\n",
    "contenedor_de_limites = {\n",
    "    \"HR\"         : [0, 100, \"Humedad relativa del aire (%)\"],\n",
    "    \"MP10Hr\"     : [0, 200, \"Material Particulado MP10 (μg/m3N)\"],\n",
    "    \"MP25Hr\"     : [0, 120,  \"Material Particulado MP2.5 (μg/m3)\"],\n",
    "    \"OzoneHr\"    : [0, 60,  \"Ozono (ppb)\"],\n",
    "    \"Rad\"        : [0, 1000, \"Radiación global (W/m2)\"],\n",
    "    \"Temp\"       : [0, 40,  \"Temperatura ambiente (°C)\"],\n",
    "    \"VientoVel\"  : [0, 5,   \"Velocidad del viento (m/s)\"],\n",
    "}\n",
    "\n",
    "for variable, [vmin, vmax, var_title] in contenedor_de_limites.items():\n",
    "    ciclo_diario(\n",
    "        df              = df,\n",
    "        variable        = variable,\n",
    "        nombre_estacion = \"Estación San Fernando\",\n",
    "        xlabel          = \"Hora Local [horas]\",\n",
    "        ylabel          = var_title,\n",
    "        ylim            = {\"bottom\": vmin, \"top\": vmax},\n",
    "        output_folder   = output_folder\n",
    "    )"
   ],
   "metadata": {
    "collapsed": false,
    "pycharm": {
     "name": "#%%\n"
    }
   }
  },
  {
   "cell_type": "code",
   "execution_count": 7,
   "outputs": [],
   "source": [
    "def ciclo_diario_direccion(df, variable, nombre_estacion, vmin, vmax, output_folder, **kwargs):\n",
    "    \"\"\"\n",
    "    Descripción: Función para graficar series de tiempo con promedio mensual.\n",
    "\n",
    "    df          (Dataframe):    Conjunto de datos a graficar.\n",
    "    variable          (str):    Variable en \"str\" que se desea graficar.\n",
    "    nombre_estacion   (str):    Nombre de la estación de monitoreo.\n",
    "    vmin              (int):    Probabilidad mínima.\n",
    "    vmax              (int):    Probabilidad máxima.\n",
    "    **kwargs               :    Variables que no están definidas en la función directamente, pero que una vez que\n",
    "                                ajuste a sus requerimientos, pueden ser cambiadas. Recordar que si se tiene kwargs debe estar definido cuando se llama la función.\n",
    "    Ejemplo:\n",
    "    ciclo_diario_direccion(\n",
    "        df              = df,\n",
    "        variable        = \"vientoDir\",\n",
    "        nombre_estacion = \"Estación San Fernando\",\n",
    "        vmin            = 0,\n",
    "        vmax            = 30\n",
    "        )\n",
    "    \"\"\"\n",
    "    #Limpieza de valores NaN.\n",
    "    df = df.filter([variable]).dropna()\n",
    "\n",
    "    # Carpeta para guardar archivos\n",
    "    plot_folder = output_folder+\"/Plot\"\n",
    "    data_folder = output_folder+\"/Data\"\n",
    "\n",
    "    if os.path.isdir(plot_folder) == False:\n",
    "        os.mkdir(plot_folder)\n",
    "    if os.path.isdir(data_folder) == False:\n",
    "        os.mkdir(data_folder)\n",
    "\n",
    "    #Creación de diccionario para definir la dirección del viento, en este caso se considera que la dirección esta en el rango de 0° a 360°.\n",
    "    step        = 15\n",
    "    bins        = np.arange(step/2, 360, step)\n",
    "    directions  = {n: ndir for n, ndir in enumerate(np.arange(0, 360+step, step))}\n",
    "\n",
    "    # clasificación de dirección en número de 1 al 16\n",
    "    df[\"nombre_viento\"] = np.digitize(x = df[variable], bins=bins)\n",
    "    df[\"nombre_viento\"] = df[\"nombre_viento\"].map(directions)\n",
    "\n",
    "    # Se agrega la columna hora para agilizar tabla pivote\n",
    "    df['HORA'] = df.index.hour\n",
    "\n",
    "    #función para determinar frecuencia relativa de una SerieFrame\n",
    "    freq_relativa = lambda x: 100*x/x.sum()\n",
    "\n",
    "    # Tabla pivote con índice la clasificación que se le da al viento y en las columnas la hora, se considera usar la función count para contar los valores que cumplen esa dirección a esa hora.\n",
    "    pivot_table = pd.pivot_table(data=df, values = variable, index=\"nombre_viento\",columns=\"HORA\", aggfunc=\"count\")\n",
    "\n",
    "    #Determina la frecuencia relativa por cada hora\n",
    "    pivot_table = pivot_table.apply(freq_relativa, axis=0)\n",
    "    name_file = data_folder+\"/CD_\"+variable+\"_\"+nombre_estacion.replace(\" \",\"\")+\".xlsx\"\n",
    "    if os.path.isfile(name_file)==True:\n",
    "        ExcelWorkbook = load_workbook(name_file)\n",
    "        writer = pd.ExcelWriter(name_file, engine = 'openpyxl')\n",
    "        writer.book = ExcelWorkbook\n",
    "        pivot_table.to_excel(writer, sheet_name=variable)\n",
    "        writer.save()\n",
    "        writer.close()\n",
    "    else:\n",
    "        pivot_table.to_excel(name_file, sheet_name=variable)\n",
    "\n",
    "    #Crear figura, los valores pueden ser modificados en función de lo que se necesite.\n",
    "    fig, (ax, cbar_ax) = plt.subplots(\n",
    "        ncols       = 2,\n",
    "        figsize     = (9,6),\n",
    "        gridspec_kw = {'wspace':0.025, 'hspace':0.25, 'left':0.075, 'right':0.925, 'top':0.950, 'bottom':0.1, \"width_ratios\": [.9, .025]},\n",
    "        facecolor   ='lightgrey',\n",
    "        edgecolor   ='w')\n",
    "\n",
    "    #Graficar promedio de los datos.\n",
    "    cf = ax.imshow(\n",
    "        pivot_table, **{\"cmap\": \"jet\", \"origin\": \"lower\", \"vmin\": vmin, \"vmax\": vmax, \"zorder\": 0, \"aspect\":\"auto\"})\n",
    "    plt.colorbar(cf, cax= cbar_ax, ticks = np.arange(vmin, vmax + 5, 5))\n",
    "\n",
    "    #Definición de etiqueta del eje \"x\" y el eje \"y\".\n",
    "    ax.set_xlabel(\"Hora Local [horas]\", fontsize = 11, fontweight = \"normal\", labelpad = 2.5)\n",
    "    ax.set_ylabel(\"Dirección del Viento (°)\", fontsize = 11, fontweight = \"normal\", labelpad = 2.5)\n",
    "\n",
    "    # #Definición de números o tipografía del eje \"x\" o el eje \"ylabelfw\n",
    "    ax.set(xticks = pivot_table.columns,\n",
    "           yticks = np.arange(0, len(pivot_table.index), 2),\n",
    "           yticklabels = pivot_table.index[::2].astype(np.int32))\n",
    "    ax.tick_params(\n",
    "        axis = \"both\", which = \"major\", direction = \"in\", length = 5, width = 1, pad = 5,\n",
    "        grid_color = 'k', grid_linewidth = 0.75, grid_linestyle = \"--\", grid_alpha = 0.8,\n",
    "        bottom = True, top = True, left = True, right = True, labelsize = 10)\n",
    "    # #Definición de grilla, legenda y extras.\n",
    "    ax.set_title(\n",
    "        \"Histograma del Ciclo Diario de la Dirección del Viento \"+nombre_estacion,\n",
    "        **{\"size\": 12, \"weight\": \"bold\", \"pad\": 5})\n",
    "    cbar_ax.set_ylabel(\"Frecuencia (%)\", fontsize = 11, labelpad = 2.5, fontweight=\"normal\")\n",
    "\n",
    "    # Guardar figura\n",
    "    fig.savefig(\n",
    "        plot_folder+\"/CD_\"+variable+\"_\"+nombre_estacion.replace(\" \",\"\")+\".png\",\n",
    "        facecolor = 'w', edgecolor = 'w', dpi = 96)\n",
    "    # Cierra la figura\n",
    "    plt.close(fig)\n",
    "    return\n",
    "\n",
    "ciclo_diario_direccion(\n",
    "    df              = df,\n",
    "    variable        = \"VientoDir\",\n",
    "    nombre_estacion = \"Estación San Fernando\",\n",
    "    vmin            = 0,\n",
    "    vmax            = 30,\n",
    "    output_folder   = output_folder\n",
    ")"
   ],
   "metadata": {
    "collapsed": false,
    "pycharm": {
     "name": "#%%\n"
    }
   }
  },
  {
   "cell_type": "markdown",
   "source": [
    "## 2.3 Ciclos estacionales"
   ],
   "metadata": {
    "collapsed": false,
    "pycharm": {
     "name": "#%% md\n"
    }
   }
  },
  {
   "cell_type": "code",
   "execution_count": 8,
   "outputs": [],
   "source": [
    "def ciclo_estacional_viento(df, velocidad, direccion, nombre_estacion, vmin, vmax, step, output_folder, **kwargs):\n",
    "    \"\"\"\n",
    "    Descripción: Función para graficar ciclo estacional del  viento.\n",
    "\n",
    "    df          (Dataframe):    Conjunto de datos a graficar.\n",
    "    velocidad         (str):    Variable que corresponde a la velocidad del viento.\n",
    "    dirección         (str):    Variable que corresponde a la dirección del viento.\n",
    "    nombre_estacion   (str):    Nombre de la estación de monitoreo.\n",
    "    vmin              (int):    Valor mínimo.\n",
    "    vmax              (int):    Valor máximo.\n",
    "    step              (int):    Valor del paso a paso.\n",
    "    **kwargs               :    Variables que no están definidas en la función directamente, pero que una vez que\n",
    "                                ajuste a sus requerimientos, pueden ser cambiadas. Recordar que si se tiene kwargs debe estar definido cuando se llama la función.\n",
    "    \"\"\"\n",
    "    #Limpieza de valores NaN.\n",
    "    df = df.filter([velocidad, direccion]).dropna()\n",
    "\n",
    "    # Carpeta para guardar archivos\n",
    "    plot_folder = output_folder+\"/Plot\"\n",
    "    data_folder = output_folder+\"/Data\"\n",
    "\n",
    "    if os.path.isdir(plot_folder) == False:\n",
    "        os.mkdir(plot_folder)\n",
    "    if os.path.isdir(data_folder) == False:\n",
    "        os.mkdir(data_folder)\n",
    "\n",
    "    # Se agrega la columna hora y mes para tabla pivote\n",
    "    df['HORA'] = df.index.hour\n",
    "    df['MES']  = df.index.month\n",
    "    df['udir'] = df[velocidad]*np.sin(df[direccion] * np.pi/180)# + np.pi)\n",
    "    df['vdir'] = df[velocidad]*np.cos(df[direccion] * np.pi/180)# + np.pi)\n",
    "\n",
    "    # Tabla pivote con índice el mes y columna la hora, se considera usar la función mean para mostrar el promedio de los datos.\n",
    "    pivote_viento = pd.pivot_table(data=df, values=velocidad, index=\"MES\", columns=\"HORA\", aggfunc=\"mean\")\n",
    "    pivote_udir   = pd.pivot_table(data=df, values=\"udir\", index=\"MES\", columns=\"HORA\", aggfunc=\"mean\")\n",
    "    pivote_vdir   = pd.pivot_table(data=df, values=\"vdir\", index=\"MES\", columns=\"HORA\", aggfunc=\"mean\")\n",
    "\n",
    "    name_file = data_folder+\"/CE_\"+nombre_estacion.replace(\" \",\"\")+\".xlsx\"\n",
    "    if os.path.isfile(name_file)==True:\n",
    "        ExcelWorkbook = load_workbook(name_file)\n",
    "        writer = pd.ExcelWriter(name_file, engine = 'openpyxl')\n",
    "        writer.book = ExcelWorkbook\n",
    "        pivote_viento.to_excel(writer, sheet_name=\"viento\")\n",
    "        writer.save()\n",
    "        writer.close()\n",
    "    else:\n",
    "        pivote_viento.to_excel(name_file, sheet_name=\"viento\")\n",
    "\n",
    "\n",
    "    #Interpolación pivote\n",
    "    n = 5\n",
    "    x = np.arange(pivote_viento.columns.min() - 1 - 1/n, pivote_viento.columns.max() + 1, 1/n )\n",
    "    y = np.arange(pivote_viento.index.min()   - 1 - 1/n, pivote_viento.index.max()   + 1, 1/n )\n",
    "    f_viento = interpolate.interp2d(pivote_viento.columns, pivote_viento.index, pivote_viento.values, kind='linear')\n",
    "    f_udir   = interpolate.interp2d(pivote_udir.columns, pivote_udir.index, pivote_udir.values, kind='linear')\n",
    "    f_vdir   = interpolate.interp2d(pivote_vdir.columns, pivote_vdir.index, pivote_vdir.values, kind='linear')\n",
    "    z_viento = f_viento(x, y)\n",
    "    u        = f_udir(x, y)\n",
    "    v        = f_vdir(x, y)\n",
    "\n",
    "    #Crear figura, los valores pueden ser modificados en función de lo que se necesite.\n",
    "    fig, (ax, cbar_ax) = plt.subplots(\n",
    "        ncols       = 2,\n",
    "        figsize     = (9,6),\n",
    "        gridspec_kw = {'wspace':0.025, 'hspace':0.25, 'left':0.075, 'right':0.925, 'top':0.950, 'bottom':0.1, \"width_ratios\": [.9, .025]},\n",
    "        facecolor   ='lightgrey',\n",
    "        edgecolor   ='w')\n",
    "\n",
    "    # Grafico de contornos, correspondiente a la velocidad del viento\n",
    "    cf = ax.contourf(x, y, z_viento, **{\"levels\": np.arange(vmin, vmax + step, step), \"cmap\": 'jet'})\n",
    "    ax.contour(x, y, z_viento, **{\"levels\": np.arange(vmin, vmax + step, step), \"colors\": \"black\", \"linewidths\": 0.15})\n",
    "\n",
    "    # Grafico que contiene las flechas que representan la dirección del viento\n",
    "    ax.quiver(x[1::n], y[1::n], u[1::n, 1::n], v[1::n, 1::n], scale_units='xy', scale=5, units=\"xy\", width=0.025, headwidth=3., headlength=4.)\n",
    "\n",
    "    # Grafico que corresponde a la barra de colores\n",
    "    plt.colorbar(cf, cax= cbar_ax, **{\"ticks\":  np.arange(vmin, vmax + step*10, step*10)})\n",
    "\n",
    "    # #Definición de etiqueta del eje \"x\", el eje \"y\" y colorvar\n",
    "    ax.set_xlabel(\"Hora\", **{\"fontsize\": 11, \"fontweight\": \"normal\", \"labelpad\": 2.5})\n",
    "    ax.set_ylabel(\"Mes\", **{\"fontsize\": 11, \"fontweight\": \"normal\", \"labelpad\": 2.5})\n",
    "    cbar_ax.set_ylabel(\"Velocidad del viento (m/s)\", **{\"fontsize\": 11, \"fontweight\": \"normal\", \"labelpad\": 5})\n",
    "\n",
    "    # #Definición de números o tipografía del eje \"x\", eje \"y\" y colorbar\n",
    "    ax.set(\n",
    "        xticks = pivote_viento.columns,\n",
    "        yticks = pivote_viento.index,\n",
    "        xticklabels = pivote_viento.columns,\n",
    "        yticklabels = [\"E\", \"F\", \"M\", \"A\", \"M\", \"J\", \"J\", \"A\", \"S\", \"O\", \"N\", \"D\"]\n",
    "    )\n",
    "    ax.tick_params(axis=\"both\", **{\"labelsize\": 10, \"length\": 5, \"direction\": \"in\", \"width\": 1.25, \"pad\": 5})\n",
    "    cbar_ax.tick_params(labelsize = 10)\n",
    "\n",
    "    # Definición de limites\n",
    "    ax.set_xlim(pivote_viento.columns.min() - 5/(2*n), pivote_viento.columns.max() + 5/(2*n))\n",
    "    ax.set_ylim(pivote_viento.index.min()   - 5/(2*n), pivote_viento.index.max()   + 5/(2*n))\n",
    "\n",
    "    # Definición de titulo\n",
    "    ax.set_title(\"Ciclo Estacional del viento \"+nombre_estacion, **{\"size\": 12, \"weight\": \"normal\", \"pad\": 5})\n",
    "\n",
    "    # Guarda la figura\n",
    "    fig.savefig(\n",
    "        plot_folder+\"/CE_Viento_\"+nombre_estacion.replace(\" \",\"\")+\".png\",\n",
    "        facecolor = 'w', edgecolor = 'w', dpi = 96)\n",
    "\n",
    "    # Cierra la figura\n",
    "    plt.close(fig)\n",
    "    return\n",
    "\n",
    "ciclo_estacional_viento(\n",
    "    df              = df,\n",
    "    velocidad       = \"VientoVel\",\n",
    "    direccion       = \"VientoDir\",\n",
    "    nombre_estacion = \"Estación San Fernando\",\n",
    "    vmin            = 0,\n",
    "    vmax            = 3,\n",
    "    step            = 0.05,\n",
    "    output_folder   = output_folder\n",
    ")"
   ],
   "metadata": {
    "collapsed": false,
    "pycharm": {
     "name": "#%%\n"
    }
   }
  },
  {
   "cell_type": "code",
   "execution_count": 9,
   "outputs": [],
   "source": [
    "def ciclo_estacional(df, variable, nombre_estacion, vmin, vmax, step, clabel, unidad, output_folder, **kwargs):\n",
    "    \"\"\"\n",
    "    Descripción: Función para graficar ciclo estacional del viento.\n",
    "\n",
    "    df          (Dataframe):    Conjunto de datos a graficar.\n",
    "    variable          (str):    Variable en \"str\" que se desea graficar.\n",
    "    nombre_estacion   (str):    Nombre de la estación de monitoreo.\n",
    "    vmin              (int):    Valor mínimo.\n",
    "    vmax              (int):    Valor máximo.\n",
    "    step              (int):    Valor del paso a paso.\n",
    "    clabel            (str):    Nombre completo de variable.\n",
    "    unidad            (str):    Unidad correspondiente a la variable.\n",
    "\n",
    "    Ejemplo:\n",
    "    ciclo_estacional(\n",
    "        df              = df,\n",
    "        variable        = \"HR\",,\n",
    "        nombre_estacion = \"Estación San Fernando\",\n",
    "        vmin            = 0,\n",
    "        vmax            = 100,\n",
    "        step            = 2,\n",
    "        clabel          = \"Humedad Relativa del Aire\",\n",
    "        unidad          = \"(%)\",\n",
    "        )\n",
    "    \"\"\"\n",
    "    #Limpieza de valores NaN.\n",
    "    df = df.filter([variable]).dropna()\n",
    "\n",
    "    # Carpeta para guardar archivos\n",
    "    plot_folder = output_folder+\"/Plot\"\n",
    "    data_folder = output_folder+\"/Data\"\n",
    "\n",
    "    if os.path.isdir(plot_folder) == False:\n",
    "        os.mkdir(plot_folder)\n",
    "    if os.path.isdir(data_folder) == False:\n",
    "        os.mkdir(data_folder)\n",
    "\n",
    "    # Se agrega la columna hora y mes para tabla pivote\n",
    "    df['HORA'] = df.index.hour\n",
    "    df['MES']  = df.index.month\n",
    "\n",
    "    # Tabla pivote con índice el mes y columna la hora, se considera usar la función mean para mostrar el promedio de los datos.\n",
    "    pivote_var  = pd.pivot_table(data=df, values=variable, index=\"MES\", columns=\"HORA\", aggfunc=\"mean\")\n",
    "\n",
    "    # Guardar pivote en archivo excel\n",
    "    name_file = data_folder+\"/CE_\"+nombre_estacion.replace(\" \",\"\")+\".xlsx\"\n",
    "    if os.path.isfile(name_file)==True:\n",
    "        ExcelWorkbook = load_workbook(name_file)\n",
    "        writer = pd.ExcelWriter(name_file, engine = 'openpyxl')\n",
    "        writer.book = ExcelWorkbook\n",
    "        pivote_var.to_excel(writer, sheet_name=variable)\n",
    "        writer.save()\n",
    "        writer.close()\n",
    "    else:\n",
    "        pivote_var.to_excel(name_file, sheet_name=variable)\n",
    "\n",
    "\n",
    "\n",
    "    #Interpolación pivote\n",
    "    n = 5\n",
    "    x = np.arange(pivote_var.columns.min() - 1 - 1/n, pivote_var.columns.max() + 1, 1/n )\n",
    "    y = np.arange(pivote_var.index.min()   - 1 - 1/n, pivote_var.index.max()   + 1, 1/n )\n",
    "    f_var  = interpolate.interp2d(pivote_var.columns , pivote_var.index , pivote_var.values , kind='linear')\n",
    "    z_var  = f_var(x, y)\n",
    "\n",
    "    #Crear figura, los valores pueden ser modificados en función de lo que se necesite.\n",
    "    fig, (ax, cbar_ax) = plt.subplots(\n",
    "        ncols       = 2,\n",
    "        figsize     = (9,6),\n",
    "        gridspec_kw = {'wspace':0.025, 'hspace':0.25, 'left':0.075, 'right':0.925, 'top':0.950, 'bottom':0.1, \"width_ratios\": [.9, .025]},\n",
    "        facecolor   ='lightgrey',\n",
    "        edgecolor   ='w')\n",
    "\n",
    "    # Grafico de contornos, correspondiente a la velocidad del viento\n",
    "    cf = ax.contourf(\n",
    "        x, y, z_var, **{\"levels\": np.arange(vmin, vmax + step, step), \"cmap\": 'jet'})\n",
    "    ax.contour(\n",
    "        x, y, z_var, **{\"levels\": np.arange(vmin, vmax + step, step), \"colors\": \"black\", \"linewidths\": 0.1})\n",
    "\n",
    "    # Grafico que corresponde a la barra de colores\n",
    "    plt.colorbar(cf, cax= cbar_ax, **{\"ticks\":  np.arange(vmin, vmax + step, step*5)})\n",
    "\n",
    "    # Definición de etiqueta del eje \"x\" y el eje \"y\".\n",
    "    ax.set_xlabel(\"Hora\", **{\"fontsize\": 11, \"fontweight\": \"normal\", \"labelpad\": 2.5})\n",
    "    ax.set_ylabel(\"Mes\", **{\"fontsize\": 11, \"fontweight\": \"normal\", \"labelpad\": 2.5})\n",
    "    cbar_ax.set_ylabel(clabel+\" \"+unidad, **{\"fontsize\": 11, \"fontweight\": \"normal\", \"labelpad\": 2.5})\n",
    "\n",
    "    # Definición de números o tipografía del eje \"x\", eje \"y\" y \"colorbar\"\n",
    "    ax.set(\n",
    "        xticks = pivote_var.columns,\n",
    "        yticks = pivote_var.index,\n",
    "        xticklabels = pivote_var.columns,\n",
    "        yticklabels = [\"E\", \"F\", \"M\", \"A\", \"M\", \"J\", \"J\", \"A\", \"S\", \"O\", \"N\", \"D\"]\n",
    "    )\n",
    "    ax.tick_params(axis=\"both\", **{\"labelsize\": 10, \"length\": 5, \"direction\": \"in\", \"width\": 1.25, \"pad\": 5})\n",
    "    cbar_ax.tick_params(labelsize = 10)\n",
    "\n",
    "    # Definición de limites\n",
    "    ax.set_xlim(pivote_var.columns.min() - 5/(2*n), pivote_var.columns.max() + 5/(2*n))\n",
    "    ax.set_ylim(pivote_var.index.min()   - 5/(2*n), pivote_var.index.max()   + 5/(2*n))\n",
    "\n",
    "    # Definición de titulo\n",
    "    ax.set_title(\"Ciclo Estacional \"+clabel+\" \"+nombre_estacion, **{\"size\": 12, \"weight\": \"normal\", \"pad\": 5})\n",
    "\n",
    "    # Guarda la figura\n",
    "    fig.savefig(\n",
    "        plot_folder+\"/CE_\"+variable+\"_\"+nombre_estacion.replace(\" \",\"\")+\".png\",\n",
    "        facecolor = 'w', edgecolor = 'w', dpi = 96)\n",
    "\n",
    "    # Cierra la figura\n",
    "    plt.close(fig)\n",
    "    return\n",
    "\n",
    "contenedor_de_limites = {\n",
    "    \"HR\"       : [0, 100,  2.0, \"Humedad relativa del aire\",  \"(%)\"],\n",
    "    \"MP10Hr\"   : [0, 150,  5.0, \"Material Particulado MP10\",  \"(μg/m3N)\"],\n",
    "    \"MP25Hr\"   : [0, 100,  5.0, \"Material Particulado MP2.5\", \"(μg/m3)\"],\n",
    "    \"OzoneHr\"  : [0, 50,   1.0, \"Ozono\", \"(ppb)\"],\n",
    "    \"Rad\"      : [0, 1000,  50, \"Radiación global\", \"(W/m2)\"],\n",
    "    \"Temp\"     : [0, 30,   1.0, \"Temperatura ambiente\", \"(°C)\"],\n",
    "}\n",
    "for variable, [vmin, vmax, step, var_title, unit] in contenedor_de_limites.items():\n",
    "    ciclo_estacional(\n",
    "        df              = df,\n",
    "        variable        = variable,\n",
    "        nombre_estacion = \"Estación San Fernando\",\n",
    "        vmin            = vmin,\n",
    "        vmax            = vmax,\n",
    "        step            = step,\n",
    "        clabel          = var_title,\n",
    "        unidad          = unit,\n",
    "        output_folder   = output_folder\n",
    "    )"
   ],
   "metadata": {
    "collapsed": false,
    "pycharm": {
     "name": "#%%\n"
    }
   }
  },
  {
   "cell_type": "markdown",
   "source": [
    "## 2.4 Rosa de los vientos¶"
   ],
   "metadata": {
    "collapsed": false,
    "pycharm": {
     "name": "#%% md\n"
    }
   }
  },
  {
   "cell_type": "code",
   "execution_count": 10,
   "outputs": [],
   "source": [
    "def clasificando_viento(df, nrosa, var_vientos, var_direccion, nombre_estacion, data_folder):\n",
    "    #clasificación del viento según su velocidad\n",
    "    escala = {\n",
    "        0  : 'Calma',\n",
    "        1  : '0,50 - 2,10',\n",
    "        2  : '2,10 - 3,60',\n",
    "        3  : '3,60 - 5,70',\n",
    "        4  : '5,70 - 8,80',\n",
    "        5  : '8,80 - 11,10',\n",
    "        6  : '>= 11,10',}\n",
    "    bins_vel = np.array([0.5, 2.10, 3.60, 5.70, 8.80, 11.10])\n",
    "    df['clase_velocidad'] = np.digitize(x = df[var_vientos], bins=bins_vel)\n",
    "\n",
    "    # Clasificación viento según la dirección\n",
    "    if nrosa == 8:\n",
    "        step            = 360/nrosa\n",
    "        name_directions = np.array('N NE E SE S SW W NW N'.split())\n",
    "        bins            = np.arange(step/2, 360 + step, step)\n",
    "        print(bins)\n",
    "    elif nrosa == 16:\n",
    "        step            = 360/nrosa\n",
    "        name_directions = np.array('N NNE NE ENE E ESE SE SSE S SSW SW WSW W WNW NW NNW N'.split())\n",
    "        bins            = np.arange(step/2, 360 + step, step)\n",
    "\n",
    "    directions = {n: dir for n, dir in enumerate(name_directions)}\n",
    "    df[\"Nclase_direccion\"] = np.digitize(x = df[var_direccion], bins=bins)\n",
    "    df[\"clase_direccion\"]  = df[\"Nclase_direccion\"].map(directions)\n",
    "\n",
    "    # Determinación de la tabla pivote\n",
    "    pivote = pd.pivot_table(\n",
    "        df,\n",
    "        values     = var_vientos,\n",
    "        index      = \"clase_velocidad\",\n",
    "        columns    = \"clase_direccion\",\n",
    "        aggfunc    = \"count\",\n",
    "        fill_value = 0)[name_directions[:-1]]\n",
    "    pivote.index   = pivote.index.map(escala)\n",
    "    pivote.to_excel(data_folder+\"/rosadelosviento_\"+nombre_estacion.replace(\" \",\"\")+\".xlsx\")\n",
    "    calmas = pivote.iloc[0].sum().sum()*100/len(df)\n",
    "    pivote = pivote[1:]\n",
    "    pivote = pivote*100/pivote.sum().sum()\n",
    "    return pivote, calmas, name_directions\n",
    "\n",
    "def rosa_vientos(df, var_vientos, var_direccion, nrosa, nombre_estacion, output_folder, **kwargs):\n",
    "    \"\"\"\n",
    "    Descripción: Función para graficar ciclo diario de una variable.\n",
    "\n",
    "    df          (Dataframe):    Conjunto de datos a graficar.\n",
    "    var_vientos       (str):    Variable que representa a los vientos.\n",
    "    var_direccion     (str):    Variable que representa a los direccion.\n",
    "    nrosa             (int):    Número que corresponde a una rosa de 8 o 16 direcciones.\n",
    "    nombre_estacion   (str):    Nombre de la estación de monitoreo.\n",
    "\n",
    "    Ejemplo:\n",
    "    rosa_vientos(\n",
    "        df              = df,\n",
    "        var_vientos     = \"vientoVel\",\n",
    "        var_direccion   = \"vientoDir\",\n",
    "        nrose           = 16,\n",
    "        nombre_estacion = \"Estación San Fernando\",\n",
    "        )\n",
    "    \"\"\"\n",
    "\n",
    "    df = df.filter([var_vientos, var_direccion]).dropna()\n",
    "\n",
    "    # Carpeta para guardar archivos\n",
    "    plot_folder = output_folder+\"/Plot\"\n",
    "    data_folder = output_folder+\"/Data\"\n",
    "\n",
    "    if os.path.isdir(plot_folder) == False:\n",
    "        os.mkdir(plot_folder)\n",
    "    if os.path.isdir(data_folder) == False:\n",
    "        os.mkdir(data_folder)\n",
    "\n",
    "    pivote, calmas, name_directions = clasificando_viento(df, nrosa, var_vientos, var_direccion, nombre_estacion, data_folder)\n",
    "\n",
    "\n",
    "    # Define figura\n",
    "    fig=plt.figure(\n",
    "        figsize=(10,8),\n",
    "        facecolor = 'lightgrey',\n",
    "        edgecolor = 'w')\n",
    "\n",
    "    # definición de la rosa de los viento\n",
    "    rect      = [0, 0.05, 0.85, 0.85]\n",
    "    ax        = plt.axes(rect, projection='polar')\n",
    "    btt       = 0\n",
    "    direccion = np.linspace(0, 2*np.pi, nrosa+1)\n",
    "    w         = 2*np.pi/nrosa\n",
    "\n",
    "    # definición de parámetros polares\n",
    "    ax.set(**{\n",
    "        \"theta_zero_location\": \"N\",\n",
    "        \"theta_direction\": -1,\n",
    "        \"rorigin\": -1,\n",
    "        \"rlim\": (0,25),\n",
    "        \"rlabel_position\": 90,\n",
    "        \"rticks\": np.arange(0,25,5)})\n",
    "\n",
    "    ax.set_thetagrids(direccion*(180/np.pi), name_directions, fontsize = 9)\n",
    "\n",
    "    # Rosa de los vientos\n",
    "    for n in range(len(pivote)):\n",
    "        N = np.array(pivote.iloc[n].tolist())\n",
    "        ax.bar(\n",
    "            x = direccion[:nrosa],\n",
    "            height = N,\n",
    "            width  = w,\n",
    "            bottom = btt,\n",
    "            label = pivote.index[n],\n",
    "            **{\n",
    "                \"linewidth\": 0.25,\n",
    "                \"edgecolor\": 'k',\n",
    "                \"zorder\": 5})\n",
    "        btt = btt + N\n",
    "\n",
    "    # Definición de legenda\n",
    "    rxz=(0.325, 0.45, 1, 0.15)\n",
    "    extraString = '{0:5} {1:.2f}%'.format('Calmas:', calmas)\n",
    "    handles, labels = ax.get_legend_handles_labels()\n",
    "    handles.append(mpatches.Patch(color='none', label=extraString))\n",
    "    ax.legend(handles=handles, bbox_to_anchor=rxz, **{\n",
    "        \"loc\": 0,\n",
    "        \"facecolor\": 'w',\n",
    "        \"edgecolor\": 'k',\n",
    "        \"title\": \"Velocidad (m/s)\",\n",
    "        \"fontsize\": 10,\n",
    "        \"title_fontsize\": 10})\n",
    "\n",
    "    # Definición de titulo\n",
    "    fig.suptitle(\"Rosa del viento \"+nombre_estacion, **{\"size\": 14, \"weight\": \"bold\"})\n",
    "\n",
    "    # guardar figura\n",
    "    fig.savefig(**{\"fname\": plot_folder+\"/rosadelosviento_\"+nombre_estacion.replace(\" \",\"\")+\".png\",\n",
    "                   \"facecolor\": 'lightgrey', \"edgecolor\": 'k', \"dpi\": 96})\n",
    "\n",
    "    # Cierre figura\n",
    "    plt.close(fig)\n",
    "    return\n",
    "\n",
    "rosa_vientos(\n",
    "    df              = df,\n",
    "    var_vientos     = \"VientoVel\",\n",
    "    var_direccion   = \"VientoDir\",\n",
    "    nrosa           = 16,\n",
    "    nombre_estacion = \"Estación San Fernando\",\n",
    "    output_folder   = output_folder\n",
    ")"
   ],
   "metadata": {
    "collapsed": false,
    "pycharm": {
     "name": "#%%\n"
    }
   }
  },
  {
   "cell_type": "markdown",
   "source": [
    "# 3. Machine Learning model"
   ],
   "metadata": {
    "collapsed": false,
    "pycharm": {
     "name": "#%% md\n"
    }
   }
  },
  {
   "cell_type": "markdown",
   "source": [
    "# 3.1 EDA"
   ],
   "metadata": {
    "collapsed": false
   }
  },
  {
   "cell_type": "code",
   "execution_count": 25,
   "outputs": [],
   "source": [
    "target_columns   = [\"MP10Hr\", \"MP25Hr\", \"OzoneHr\"]\n",
    "features_columns = df.loc[:, ~df.columns.isin(target_columns + [\"lon\", \"lat\", \"geometry\"])].columns.to_list()"
   ],
   "metadata": {
    "collapsed": false,
    "pycharm": {
     "name": "#%%\n"
    }
   }
  },
  {
   "cell_type": "code",
   "execution_count": 26,
   "outputs": [
    {
     "name": "stdout",
     "output_type": "stream",
     "text": [
      "Targets:\n",
      "             count   mean    std   min    25%    50%    75%     max\n",
      "MP10Hr  58635.000 43.580 35.440 1.000 23.000 35.500 52.339 760.000\n",
      "MP25Hr  31491.000 21.939 26.336 1.000  8.000 14.000 27.000 341.525\n",
      "OzoneHr 68196.000 14.253 11.439 0.510  5.000 11.781 20.499  69.625 \n",
      "Features:\n",
      "                count    mean     std    min     25%     50%     75%      max\n",
      "HR         69662.000  63.411  22.688  0.000  45.436  65.093  82.400  105.000\n",
      "Pressure   65194.000 814.346 204.271  0.000 551.692 975.000 979.000 1072.670\n",
      "Rad        69660.000 176.566 263.823  0.000   0.000   5.843 297.516 1019.000\n",
      "Temp       67481.000  14.645   6.866 -2.451   9.600  13.700  19.200   34.700\n",
      "VientoDir 121563.000 174.152  62.255  0.000 146.000 173.000 219.000  360.000\n",
      "VientoVel 122014.000   1.745   0.845  0.000   1.100   1.700   2.300    7.800\n"
     ]
    }
   ],
   "source": [
    "with pd.option_context('display.float_format', '{:0.3f}'.format):\n",
    "    print(\"Targets:\\n\",df[target_columns].describe().T, \"\\nFeatures:\\n\", df[features_columns].describe().T)"
   ],
   "metadata": {
    "collapsed": false,
    "pycharm": {
     "name": "#%%\n"
    }
   }
  },
  {
   "cell_type": "code",
   "execution_count": 36,
   "outputs": [
    {
     "data": {
      "text/plain": "<Figure size 720x216 with 2 Axes>",
      "image/png": "[encoded data removed]"
     },
     "metadata": {
      "needs_background": "light"
     },
     "output_type": "display_data"
    }
   ],
   "source": [
    "corr_matrix = df.drop([\"lat\",\"lon\",\"geometry\"], axis = 1).corr()\n",
    "fig = plt.figure(figsize=(10, len(target_columns)))\n",
    "_ = sns.heatmap(corr_matrix, annot=True, fmt=\".2f\", cmap=\"RdYlBu_r\")"
   ],
   "metadata": {
    "collapsed": false,
    "pycharm": {
     "name": "#%%\n"
    }
   }
  },
  {
   "cell_type": "code",
   "execution_count": 40,
   "outputs": [
    {
     "data": {
      "text/plain": "<Figure size 720x216 with 2 Axes>",
      "image/png": "[encoded data removed]"
     },
     "metadata": {
      "needs_background": "light"
     },
     "output_type": "display_data"
    }
   ],
   "source": [
    "pps_matrix = pps.matrix(df.drop([\"lat\",\"lon\",\"geometry\"], axis = 1), cross_validation=10)[['x', 'y', 'ppscore']].pivot(columns='x', index='y', values='ppscore')\n",
    "fig = plt.figure(figsize=(10, len(target_columns)))\n",
    "_ = sns.heatmap(pps_matrix, vmin=0, vmax=1, cmap=\"RdYlBu_r\", annot=True, fmt=\".2f\")"
   ],
   "metadata": {
    "collapsed": false,
    "pycharm": {
     "name": "#%%\n"
    }
   }
  },
  {
   "cell_type": "code",
   "execution_count": 35,
   "outputs": [
    {
     "data": {
      "text/plain": "                           HR  MP10Hr  MP25Hr  OzoneHr  Pressure       Rad  \\\nFecha                                                                        \n2021-04-21 14:00:00  0.441357     NaN     NaN      NaN  0.505028  0.167599   \n2021-04-21 15:00:00  0.445952     NaN     NaN      NaN  0.504884  0.157132   \n2021-04-21 16:00:00  0.489286     NaN     NaN      NaN  0.505249  0.173683   \n2021-04-21 17:00:00  0.522492     NaN     NaN      NaN  0.505805  0.079838   \n2021-04-21 18:00:00  0.522405     NaN     NaN      NaN  0.506053  0.052206   \n2021-04-21 19:00:00  0.576008     NaN     NaN      NaN  0.509329  0.002635   \n2021-04-21 20:00:00  0.658802     NaN     NaN      NaN  0.521572  0.000124   \n2021-04-21 21:00:00  0.735969     NaN     NaN      NaN  0.543317  0.000124   \n2021-04-21 22:00:00  0.761834     NaN     NaN      NaN  0.555467  0.000158   \n2021-04-21 23:00:00  0.796270     NaN     NaN      NaN  0.568255  0.000913   \n\n                         Temp  VientoDir  VientoVel  \nFecha                                                \n2021-04-21 14:00:00  0.556023   0.869431   0.489204  \n2021-04-21 15:00:00  0.558222   0.832328   0.641981  \n2021-04-21 16:00:00  0.549048   0.843569   0.656099  \n2021-04-21 17:00:00  0.537383   0.849556   0.515164  \n2021-04-21 18:00:00  0.527717   0.164881   0.127316  \n2021-04-21 19:00:00  0.493486   0.526311   0.051687  \n2021-04-21 20:00:00  0.457552   0.445281   0.182400  \n2021-04-21 21:00:00  0.421079   0.475950   0.158235  \n2021-04-21 22:00:00  0.400643   0.578406   0.119781  \n2021-04-21 23:00:00  0.373032        NaN        NaN  ",
      "text/html": "<div>\n<style scoped>\n    .dataframe tbody tr th:only-of-type {\n        vertical-align: middle;\n    }\n\n    .dataframe tbody tr th {\n        vertical-align: top;\n    }\n\n    .dataframe thead th {\n        text-align: right;\n    }\n</style>\n<table border=\"1\" class=\"dataframe\">\n  <thead>\n    <tr style=\"text-align: right;\">\n      <th></th>\n      <th>HR</th>\n      <th>MP10Hr</th>\n      <th>MP25Hr</th>\n      <th>OzoneHr</th>\n      <th>Pressure</th>\n      <th>Rad</th>\n      <th>Temp</th>\n      <th>VientoDir</th>\n      <th>VientoVel</th>\n    </tr>\n    <tr>\n      <th>Fecha</th>\n      <th></th>\n      <th></th>\n      <th></th>\n      <th></th>\n      <th></th>\n      <th></th>\n      <th></th>\n      <th></th>\n      <th></th>\n    </tr>\n  </thead>\n  <tbody>\n    <tr>\n      <th>2021-04-21 14:00:00</th>\n      <td>0.441357</td>\n      <td>NaN</td>\n      <td>NaN</td>\n      <td>NaN</td>\n      <td>0.505028</td>\n      <td>0.167599</td>\n      <td>0.556023</td>\n      <td>0.869431</td>\n      <td>0.489204</td>\n    </tr>\n    <tr>\n      <th>2021-04-21 15:00:00</th>\n      <td>0.445952</td>\n      <td>NaN</td>\n      <td>NaN</td>\n      <td>NaN</td>\n      <td>0.504884</td>\n      <td>0.157132</td>\n      <td>0.558222</td>\n      <td>0.832328</td>\n      <td>0.641981</td>\n    </tr>\n    <tr>\n      <th>2021-04-21 16:00:00</th>\n      <td>0.489286</td>\n      <td>NaN</td>\n      <td>NaN</td>\n      <td>NaN</td>\n      <td>0.505249</td>\n      <td>0.173683</td>\n      <td>0.549048</td>\n      <td>0.843569</td>\n      <td>0.656099</td>\n    </tr>\n    <tr>\n      <th>2021-04-21 17:00:00</th>\n      <td>0.522492</td>\n      <td>NaN</td>\n      <td>NaN</td>\n      <td>NaN</td>\n      <td>0.505805</td>\n      <td>0.079838</td>\n      <td>0.537383</td>\n      <td>0.849556</td>\n      <td>0.515164</td>\n    </tr>\n    <tr>\n      <th>2021-04-21 18:00:00</th>\n      <td>0.522405</td>\n      <td>NaN</td>\n      <td>NaN</td>\n      <td>NaN</td>\n      <td>0.506053</td>\n      <td>0.052206</td>\n      <td>0.527717</td>\n      <td>0.164881</td>\n      <td>0.127316</td>\n    </tr>\n    <tr>\n      <th>2021-04-21 19:00:00</th>\n      <td>0.576008</td>\n      <td>NaN</td>\n      <td>NaN</td>\n      <td>NaN</td>\n      <td>0.509329</td>\n      <td>0.002635</td>\n      <td>0.493486</td>\n      <td>0.526311</td>\n      <td>0.051687</td>\n    </tr>\n    <tr>\n      <th>2021-04-21 20:00:00</th>\n      <td>0.658802</td>\n      <td>NaN</td>\n      <td>NaN</td>\n      <td>NaN</td>\n      <td>0.521572</td>\n      <td>0.000124</td>\n      <td>0.457552</td>\n      <td>0.445281</td>\n      <td>0.182400</td>\n    </tr>\n    <tr>\n      <th>2021-04-21 21:00:00</th>\n      <td>0.735969</td>\n      <td>NaN</td>\n      <td>NaN</td>\n      <td>NaN</td>\n      <td>0.543317</td>\n      <td>0.000124</td>\n      <td>0.421079</td>\n      <td>0.475950</td>\n      <td>0.158235</td>\n    </tr>\n    <tr>\n      <th>2021-04-21 22:00:00</th>\n      <td>0.761834</td>\n      <td>NaN</td>\n      <td>NaN</td>\n      <td>NaN</td>\n      <td>0.555467</td>\n      <td>0.000158</td>\n      <td>0.400643</td>\n      <td>0.578406</td>\n      <td>0.119781</td>\n    </tr>\n    <tr>\n      <th>2021-04-21 23:00:00</th>\n      <td>0.796270</td>\n      <td>NaN</td>\n      <td>NaN</td>\n      <td>NaN</td>\n      <td>0.568255</td>\n      <td>0.000913</td>\n      <td>0.373032</td>\n      <td>NaN</td>\n      <td>NaN</td>\n    </tr>\n  </tbody>\n</table>\n</div>"
     },
     "execution_count": 35,
     "metadata": {},
     "output_type": "execute_result"
    }
   ],
   "source": [
    "from sklearn.preprocessing import MinMaxScaler\n",
    "\n",
    "scaler_df = pd.DataFrame(MinMaxScaler().fit_transform(df.drop([\"lat\",\"lon\",\"geometry\"], axis = 1)), columns = df.loc[:, ~df.columns.isin([\"lat\",\"lon\",\"geometry\"])].columns)\n",
    "scaler_df.index = df.index\n",
    "scaler_df.tail(10)"
   ],
   "metadata": {
    "collapsed": false,
    "pycharm": {
     "name": "#%%\n"
    }
   }
  },
  {
   "cell_type": "code",
   "execution_count": 39,
   "outputs": [
    {
     "data": {
      "text/plain": "<Figure size 720x216 with 2 Axes>",
      "image/png": "[encoded data removed]"
     },
     "metadata": {
      "needs_background": "light"
     },
     "output_type": "display_data"
    }
   ],
   "source": [
    "corr_matrix = scaler_df.corr()\n",
    "fig = plt.figure(figsize=(10, len(target_columns)))\n",
    "_ = sns.heatmap(corr_matrix, annot=True, fmt=\".2f\", cmap=\"RdYlBu_r\")"
   ],
   "metadata": {
    "collapsed": false,
    "pycharm": {
     "name": "#%%\n"
    }
   }
  },
  {
   "cell_type": "code",
   "execution_count": 41,
   "outputs": [
    {
     "data": {
      "text/plain": "<Figure size 720x216 with 2 Axes>",
      "image/png": "[encoded data removed]"
     },
     "metadata": {
      "needs_background": "light"
     },
     "output_type": "display_data"
    }
   ],
   "source": [
    "pps_matrix = pps.matrix(scaler_df, cross_validation=10)[['x', 'y', 'ppscore']].pivot(columns='x', index='y', values='ppscore')\n",
    "fig = plt.figure(figsize=(10, len(target_columns)))\n",
    "_ = sns.heatmap(pps_matrix, vmin=0, vmax=1, cmap=\"RdYlBu_r\", annot=True, fmt=\".2f\")"
   ],
   "metadata": {
    "collapsed": false,
    "pycharm": {
     "name": "#%%\n"
    }
   }
  },
  {
   "cell_type": "code",
   "execution_count": null,
   "outputs": [],
   "source": [],
   "metadata": {
    "collapsed": false,
    "pycharm": {
     "name": "#%%\n"
    }
   }
  }
 ],
 "metadata": {
  "interpreter": {
   "hash": "0402dabae8b23d8b5afb1fd4b5b951a10d759731325203b513c39037a8670cc8"
  },
  "kernelspec": {
   "display_name": "Python 3",
   "language": "python",
   "name": "python3"
  },
  "language_info": {
   "codemirror_mode": {
    "name": "ipython",
    "version": 3
   },
   "file_extension": ".py",
   "mimetype": "text/x-python",
   "name": "python",
   "nbconvert_exporter": "python",
   "pygments_lexer": "ipython3",
   "version": "3.8.10"
  },
  "metadata": {
   "interpreter": {
    "hash": "31f2aee4e71d21fbe5cf8b01ff0e069b9275f58929596ceb00d14d90e3e16cd6"
   }
  }
 },
 "nbformat": 4,
 "nbformat_minor": 2
}